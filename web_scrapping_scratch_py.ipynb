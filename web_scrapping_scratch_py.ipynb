{
  "cells": [
    {
      "cell_type": "markdown",
      "source": [],
      "metadata": {
        "id": "hB3fJGWscQbS"
      }
    },
    {
      "cell_type": "markdown",
      "source": [
        "###WEB SCRAPING\n"
      ],
      "metadata": {
        "id": "g-dHLtQYemQa"
      }
    },
    {
      "cell_type": "markdown",
      "source": [
        "#project outline\n",
        "\n",
        "- going to scrape the url.\n",
        "- topics ,topic title, description\n",
        "- each topic name,stars, price\n",
        "- convert to csv\n"
      ],
      "metadata": {
        "id": "EOcMflqyzAal"
      }
    },
    {
      "cell_type": "markdown",
      "source": [
        "Python Web Request Script\n",
        "│\n",
        "├── Install Requests Library\n",
        "│   ├── pip install requests\n",
        "│   │   └─ Command to install the `requests` library in Python.\n",
        "│   ├── --upgrade\n",
        "│   │   └─ Ensures the latest version of the library is installed.\n",
        "│   └── --quiet\n",
        "│       └─ Suppresses extra output during installation.\n",
        "│\n",
        "├── Import Library\n",
        "│   └── import requests\n",
        "│       └─ Loads the `requests` library into the script for use.\n",
        "│\n",
        "├── Define URL\n",
        "│   └── topics_url = 'https://github.com/topics'\n",
        "│       └─ Stores the GitHub Topics webpage URL as a variable.\n",
        "│\n",
        "├── Make HTTP Request\n",
        "│   └── response = requests.get(topics_url)\n",
        "│       └─ Sends a GET request to fetch data from the given URL.\n",
        "│\n",
        "└── Check Status Code\n",
        "    └── response.status_code\n",
        "        └─ Returns the status of the request:\n",
        "            ├── 200 → Success.\n",
        "            └── Other codes indicate errors (e.g., 404 for \"Not Found\").\n"
      ],
      "metadata": {
        "id": "ko3uqnpX4n3P"
      }
    },
    {
      "cell_type": "code",
      "source": [
        "!pip install requests --upgrade --quiet\n",
        "import requests"
      ],
      "metadata": {
        "id": "D9iUvPU0zeE6"
      },
      "execution_count": 117,
      "outputs": []
    },
    {
      "cell_type": "code",
      "source": [
        "topics_url = \"https://github.com/topics\""
      ],
      "metadata": {
        "id": "FtvrfDXj6QpE"
      },
      "execution_count": 118,
      "outputs": []
    },
    {
      "cell_type": "code",
      "source": [
        "content= requests.get(topics_url)"
      ],
      "metadata": {
        "id": "ibE2ZWm56Qb6"
      },
      "execution_count": 119,
      "outputs": []
    },
    {
      "cell_type": "code",
      "source": [
        "content.status_code\n",
        "len(content.text)"
      ],
      "metadata": {
        "colab": {
          "base_uri": "https://localhost:8080/"
        },
        "id": "YqqgbGqL6QPt",
        "outputId": "64572206-4f55-4cf5-c84d-135b160a2a74"
      },
      "execution_count": 120,
      "outputs": [
        {
          "output_type": "execute_result",
          "data": {
            "text/plain": [
              "204990"
            ]
          },
          "metadata": {},
          "execution_count": 120
        }
      ]
    },
    {
      "cell_type": "code",
      "source": [
        "content.text[:1500]"
      ],
      "metadata": {
        "colab": {
          "base_uri": "https://localhost:8080/",
          "height": 244
        },
        "id": "FJzqlDgp7yjG",
        "outputId": "442a248a-bd9b-4293-f567-73bf4efb27ad"
      },
      "execution_count": 121,
      "outputs": [
        {
          "output_type": "execute_result",
          "data": {
            "text/plain": [
              "'\\n\\n<!DOCTYPE html>\\n<html\\n  lang=\"en\"\\n  \\n  data-color-mode=\"auto\" data-light-theme=\"light\" data-dark-theme=\"dark\"\\n  data-a11y-animated-images=\"system\" data-a11y-link-underlines=\"true\"\\n  \\n  >\\n\\n\\n\\n  <head>\\n    <meta charset=\"utf-8\">\\n  <link rel=\"dns-prefetch\" href=\"https://github.githubassets.com\">\\n  <link rel=\"dns-prefetch\" href=\"https://avatars.githubusercontent.com\">\\n  <link rel=\"dns-prefetch\" href=\"https://github-cloud.s3.amazonaws.com\">\\n  <link rel=\"dns-prefetch\" href=\"https://user-images.githubusercontent.com/\">\\n  <link rel=\"preconnect\" href=\"https://github.githubassets.com\" crossorigin>\\n  <link rel=\"preconnect\" href=\"https://avatars.githubusercontent.com\">\\n\\n  \\n\\n  <link crossorigin=\"anonymous\" media=\"all\" rel=\"stylesheet\" href=\"https://github.githubassets.com/assets/light-7aa84bb7e11e.css\" /><link crossorigin=\"anonymous\" media=\"all\" rel=\"stylesheet\" href=\"https://github.githubassets.com/assets/dark-f65db3e8d171.css\" /><link data-color-theme=\"dark_dimmed\" crossorigin=\"anonymous\" media=\"all\" rel=\"stylesheet\" data-href=\"https://github.githubassets.com/assets/dark_dimmed-a8258e3c6dda.css\" /><link data-color-theme=\"dark_high_contrast\" crossorigin=\"anonymous\" media=\"all\" rel=\"stylesheet\" data-href=\"https://github.githubassets.com/assets/dark_high_contrast-7e97d834719c.css\" /><link data-color-theme=\"dark_colorblind\" crossorigin=\"anonymous\" media=\"all\" rel=\"stylesheet\" data-href=\"https://github.githubassets.com/assets/dark_colorblind-09433d135506.css\" /><link data-color-theme=\"light'"
            ],
            "application/vnd.google.colaboratory.intrinsic+json": {
              "type": "string"
            }
          },
          "metadata": {},
          "execution_count": 121
        }
      ]
    },
    {
      "cell_type": "code",
      "source": [
        "with open(\"github_page.html\",\"w\") as f:\n",
        "  f.write(content.text)"
      ],
      "metadata": {
        "id": "__TQYK1l-QcM"
      },
      "execution_count": 122,
      "outputs": []
    },
    {
      "cell_type": "markdown",
      "source": [
        "#EXTARCT THE DATA USING BEAUTIFULSOUP"
      ],
      "metadata": {
        "id": "mB0HX-xvDtz9"
      }
    },
    {
      "cell_type": "markdown",
      "source": [],
      "metadata": {
        "id": "vdXfsLO_Dtwb"
      }
    },
    {
      "cell_type": "code",
      "source": [
        "!pip install beautifulsoup4  --quiet --upgrade\n",
        "from bs4 import BeautifulSoup\n"
      ],
      "metadata": {
        "id": "T_vO6yXyD08o"
      },
      "execution_count": 123,
      "outputs": []
    },
    {
      "cell_type": "code",
      "source": [
        "doc = BeautifulSoup(content.text,\"html.parser\")"
      ],
      "metadata": {
        "id": "IPgUQ3cUD_2Y"
      },
      "execution_count": 124,
      "outputs": []
    },
    {
      "cell_type": "code",
      "source": [
        "topics =[]\n",
        "topic_tag_name = doc.find_all(\"p\",{\"class\":\"f3 lh-condensed mb-0 mt-1 Link--primary\"})[:5]\n",
        "topic_name =[i.text.strip() for i in topic_tag_name]\n",
        "topic_name\n"
      ],
      "metadata": {
        "id": "eM9QmfiaEb-T",
        "colab": {
          "base_uri": "https://localhost:8080/"
        },
        "collapsed": true,
        "outputId": "6d911642-b781-4bbd-a611-96c61e1edf3c"
      },
      "execution_count": 125,
      "outputs": [
        {
          "output_type": "execute_result",
          "data": {
            "text/plain": [
              "['3D', 'Ajax', 'Algorithm', 'Amp', 'Android']"
            ]
          },
          "metadata": {},
          "execution_count": 125
        }
      ]
    },
    {
      "cell_type": "code",
      "source": [
        " topic_tag_desc=doc.find_all(\"p\",{\"class\":\"f5 color-fg-muted mb-0 mt-1\"})[:5]\n",
        " topic_decs = [i.text.strip() for i in topic_tag_desc]\n",
        " topic_decs\n"
      ],
      "metadata": {
        "colab": {
          "base_uri": "https://localhost:8080/"
        },
        "id": "D0RRICRQT8ao",
        "outputId": "92614962-6b44-4df5-d486-9f7f77139138",
        "collapsed": true
      },
      "execution_count": 126,
      "outputs": [
        {
          "output_type": "execute_result",
          "data": {
            "text/plain": [
              "['3D refers to the use of three-dimensional graphics, modeling, and animation in various industries.',\n",
              " 'Ajax is a technique for creating interactive web applications.',\n",
              " 'Algorithms are self-contained sequences that carry out a variety of tasks.',\n",
              " 'Amp is a non-blocking concurrency library for PHP.',\n",
              " 'Android is an operating system built by Google designed for mobile devices.']"
            ]
          },
          "metadata": {},
          "execution_count": 126
        }
      ]
    },
    {
      "cell_type": "code",
      "source": [
        "topic_tag_ulr=doc.find_all(\"a\",{\"class\":\"no-underline flex-1 d-flex flex-column\"})[:5]\n",
        "base_url = \"https://github.com/\"\n",
        "topic_urls = [base_url+i[\"href\"] for i in topic_tag_ulr]\n",
        "topic_urls"
      ],
      "metadata": {
        "colab": {
          "base_uri": "https://localhost:8080/"
        },
        "collapsed": true,
        "id": "vXFRVAL0SKpk",
        "outputId": "9b5cdaf4-e58d-4cd4-cec9-ef5768b84b78"
      },
      "execution_count": 127,
      "outputs": [
        {
          "output_type": "execute_result",
          "data": {
            "text/plain": [
              "['https://github.com//topics/3d',\n",
              " 'https://github.com//topics/ajax',\n",
              " 'https://github.com//topics/algorithm',\n",
              " 'https://github.com//topics/amphp',\n",
              " 'https://github.com//topics/android']"
            ]
          },
          "metadata": {},
          "execution_count": 127
        }
      ]
    },
    {
      "cell_type": "code",
      "source": [
        "topic_tag_desc=doc.find_all(\"p\",{\"class\":\"f5 color-fg-muted mb-0 mt-1\"})[:5]\n",
        "topic_decs = [i.text.strip() for i in topic_tag_desc]\n",
        "topic_tag_ulr=doc.find_all(\"a\",{\"class\":\"no-underline flex-1 d-flex flex-column\"})[:5]\n",
        "topic_urls = [base_url+i[\"href\"] for i in topic_tag_ulr]"
      ],
      "metadata": {
        "id": "GP5D2vCtlUGm"
      },
      "execution_count": 128,
      "outputs": []
    },
    {
      "cell_type": "code",
      "source": [
        "import pandas as pd"
      ],
      "metadata": {
        "id": "256ycNGolg2q"
      },
      "execution_count": 129,
      "outputs": []
    },
    {
      "cell_type": "code",
      "source": [
        "topic_dict = {\"title\":topic_name,\"description\":topic_decs,\"url\":topic_urls}\n",
        "topic_dict\n",
        "topic_df=pd.DataFrame(topic_dict)\n",
        "topic_df"
      ],
      "metadata": {
        "colab": {
          "base_uri": "https://localhost:8080/",
          "height": 293
        },
        "id": "kNQQnDcESKoK",
        "outputId": "9d4b0cc0-8e98-45e4-e10e-4cf1000fc169"
      },
      "execution_count": 130,
      "outputs": [
        {
          "output_type": "execute_result",
          "data": {
            "text/plain": [
              "       title                                        description  \\\n",
              "0         3D  3D refers to the use of three-dimensional grap...   \n",
              "1       Ajax  Ajax is a technique for creating interactive w...   \n",
              "2  Algorithm  Algorithms are self-contained sequences that c...   \n",
              "3        Amp  Amp is a non-blocking concurrency library for ...   \n",
              "4    Android  Android is an operating system built by Google...   \n",
              "\n",
              "                                    url  \n",
              "0         https://github.com//topics/3d  \n",
              "1       https://github.com//topics/ajax  \n",
              "2  https://github.com//topics/algorithm  \n",
              "3      https://github.com//topics/amphp  \n",
              "4    https://github.com//topics/android  "
            ],
            "text/html": [
              "\n",
              "  <div id=\"df-9e79a84a-3289-4133-a7c4-f71309f4d741\" class=\"colab-df-container\">\n",
              "    <div>\n",
              "<style scoped>\n",
              "    .dataframe tbody tr th:only-of-type {\n",
              "        vertical-align: middle;\n",
              "    }\n",
              "\n",
              "    .dataframe tbody tr th {\n",
              "        vertical-align: top;\n",
              "    }\n",
              "\n",
              "    .dataframe thead th {\n",
              "        text-align: right;\n",
              "    }\n",
              "</style>\n",
              "<table border=\"1\" class=\"dataframe\">\n",
              "  <thead>\n",
              "    <tr style=\"text-align: right;\">\n",
              "      <th></th>\n",
              "      <th>title</th>\n",
              "      <th>description</th>\n",
              "      <th>url</th>\n",
              "    </tr>\n",
              "  </thead>\n",
              "  <tbody>\n",
              "    <tr>\n",
              "      <th>0</th>\n",
              "      <td>3D</td>\n",
              "      <td>3D refers to the use of three-dimensional grap...</td>\n",
              "      <td>https://github.com//topics/3d</td>\n",
              "    </tr>\n",
              "    <tr>\n",
              "      <th>1</th>\n",
              "      <td>Ajax</td>\n",
              "      <td>Ajax is a technique for creating interactive w...</td>\n",
              "      <td>https://github.com//topics/ajax</td>\n",
              "    </tr>\n",
              "    <tr>\n",
              "      <th>2</th>\n",
              "      <td>Algorithm</td>\n",
              "      <td>Algorithms are self-contained sequences that c...</td>\n",
              "      <td>https://github.com//topics/algorithm</td>\n",
              "    </tr>\n",
              "    <tr>\n",
              "      <th>3</th>\n",
              "      <td>Amp</td>\n",
              "      <td>Amp is a non-blocking concurrency library for ...</td>\n",
              "      <td>https://github.com//topics/amphp</td>\n",
              "    </tr>\n",
              "    <tr>\n",
              "      <th>4</th>\n",
              "      <td>Android</td>\n",
              "      <td>Android is an operating system built by Google...</td>\n",
              "      <td>https://github.com//topics/android</td>\n",
              "    </tr>\n",
              "  </tbody>\n",
              "</table>\n",
              "</div>\n",
              "    <div class=\"colab-df-buttons\">\n",
              "\n",
              "  <div class=\"colab-df-container\">\n",
              "    <button class=\"colab-df-convert\" onclick=\"convertToInteractive('df-9e79a84a-3289-4133-a7c4-f71309f4d741')\"\n",
              "            title=\"Convert this dataframe to an interactive table.\"\n",
              "            style=\"display:none;\">\n",
              "\n",
              "  <svg xmlns=\"http://www.w3.org/2000/svg\" height=\"24px\" viewBox=\"0 -960 960 960\">\n",
              "    <path d=\"M120-120v-720h720v720H120Zm60-500h600v-160H180v160Zm220 220h160v-160H400v160Zm0 220h160v-160H400v160ZM180-400h160v-160H180v160Zm440 0h160v-160H620v160ZM180-180h160v-160H180v160Zm440 0h160v-160H620v160Z\"/>\n",
              "  </svg>\n",
              "    </button>\n",
              "\n",
              "  <style>\n",
              "    .colab-df-container {\n",
              "      display:flex;\n",
              "      gap: 12px;\n",
              "    }\n",
              "\n",
              "    .colab-df-convert {\n",
              "      background-color: #E8F0FE;\n",
              "      border: none;\n",
              "      border-radius: 50%;\n",
              "      cursor: pointer;\n",
              "      display: none;\n",
              "      fill: #1967D2;\n",
              "      height: 32px;\n",
              "      padding: 0 0 0 0;\n",
              "      width: 32px;\n",
              "    }\n",
              "\n",
              "    .colab-df-convert:hover {\n",
              "      background-color: #E2EBFA;\n",
              "      box-shadow: 0px 1px 2px rgba(60, 64, 67, 0.3), 0px 1px 3px 1px rgba(60, 64, 67, 0.15);\n",
              "      fill: #174EA6;\n",
              "    }\n",
              "\n",
              "    .colab-df-buttons div {\n",
              "      margin-bottom: 4px;\n",
              "    }\n",
              "\n",
              "    [theme=dark] .colab-df-convert {\n",
              "      background-color: #3B4455;\n",
              "      fill: #D2E3FC;\n",
              "    }\n",
              "\n",
              "    [theme=dark] .colab-df-convert:hover {\n",
              "      background-color: #434B5C;\n",
              "      box-shadow: 0px 1px 3px 1px rgba(0, 0, 0, 0.15);\n",
              "      filter: drop-shadow(0px 1px 2px rgba(0, 0, 0, 0.3));\n",
              "      fill: #FFFFFF;\n",
              "    }\n",
              "  </style>\n",
              "\n",
              "    <script>\n",
              "      const buttonEl =\n",
              "        document.querySelector('#df-9e79a84a-3289-4133-a7c4-f71309f4d741 button.colab-df-convert');\n",
              "      buttonEl.style.display =\n",
              "        google.colab.kernel.accessAllowed ? 'block' : 'none';\n",
              "\n",
              "      async function convertToInteractive(key) {\n",
              "        const element = document.querySelector('#df-9e79a84a-3289-4133-a7c4-f71309f4d741');\n",
              "        const dataTable =\n",
              "          await google.colab.kernel.invokeFunction('convertToInteractive',\n",
              "                                                    [key], {});\n",
              "        if (!dataTable) return;\n",
              "\n",
              "        const docLinkHtml = 'Like what you see? Visit the ' +\n",
              "          '<a target=\"_blank\" href=https://colab.research.google.com/notebooks/data_table.ipynb>data table notebook</a>'\n",
              "          + ' to learn more about interactive tables.';\n",
              "        element.innerHTML = '';\n",
              "        dataTable['output_type'] = 'display_data';\n",
              "        await google.colab.output.renderOutput(dataTable, element);\n",
              "        const docLink = document.createElement('div');\n",
              "        docLink.innerHTML = docLinkHtml;\n",
              "        element.appendChild(docLink);\n",
              "      }\n",
              "    </script>\n",
              "  </div>\n",
              "\n",
              "\n",
              "<div id=\"df-6a69976a-e278-44ff-abe5-5fb847c0c1f2\">\n",
              "  <button class=\"colab-df-quickchart\" onclick=\"quickchart('df-6a69976a-e278-44ff-abe5-5fb847c0c1f2')\"\n",
              "            title=\"Suggest charts\"\n",
              "            style=\"display:none;\">\n",
              "\n",
              "<svg xmlns=\"http://www.w3.org/2000/svg\" height=\"24px\"viewBox=\"0 0 24 24\"\n",
              "     width=\"24px\">\n",
              "    <g>\n",
              "        <path d=\"M19 3H5c-1.1 0-2 .9-2 2v14c0 1.1.9 2 2 2h14c1.1 0 2-.9 2-2V5c0-1.1-.9-2-2-2zM9 17H7v-7h2v7zm4 0h-2V7h2v10zm4 0h-2v-4h2v4z\"/>\n",
              "    </g>\n",
              "</svg>\n",
              "  </button>\n",
              "\n",
              "<style>\n",
              "  .colab-df-quickchart {\n",
              "      --bg-color: #E8F0FE;\n",
              "      --fill-color: #1967D2;\n",
              "      --hover-bg-color: #E2EBFA;\n",
              "      --hover-fill-color: #174EA6;\n",
              "      --disabled-fill-color: #AAA;\n",
              "      --disabled-bg-color: #DDD;\n",
              "  }\n",
              "\n",
              "  [theme=dark] .colab-df-quickchart {\n",
              "      --bg-color: #3B4455;\n",
              "      --fill-color: #D2E3FC;\n",
              "      --hover-bg-color: #434B5C;\n",
              "      --hover-fill-color: #FFFFFF;\n",
              "      --disabled-bg-color: #3B4455;\n",
              "      --disabled-fill-color: #666;\n",
              "  }\n",
              "\n",
              "  .colab-df-quickchart {\n",
              "    background-color: var(--bg-color);\n",
              "    border: none;\n",
              "    border-radius: 50%;\n",
              "    cursor: pointer;\n",
              "    display: none;\n",
              "    fill: var(--fill-color);\n",
              "    height: 32px;\n",
              "    padding: 0;\n",
              "    width: 32px;\n",
              "  }\n",
              "\n",
              "  .colab-df-quickchart:hover {\n",
              "    background-color: var(--hover-bg-color);\n",
              "    box-shadow: 0 1px 2px rgba(60, 64, 67, 0.3), 0 1px 3px 1px rgba(60, 64, 67, 0.15);\n",
              "    fill: var(--button-hover-fill-color);\n",
              "  }\n",
              "\n",
              "  .colab-df-quickchart-complete:disabled,\n",
              "  .colab-df-quickchart-complete:disabled:hover {\n",
              "    background-color: var(--disabled-bg-color);\n",
              "    fill: var(--disabled-fill-color);\n",
              "    box-shadow: none;\n",
              "  }\n",
              "\n",
              "  .colab-df-spinner {\n",
              "    border: 2px solid var(--fill-color);\n",
              "    border-color: transparent;\n",
              "    border-bottom-color: var(--fill-color);\n",
              "    animation:\n",
              "      spin 1s steps(1) infinite;\n",
              "  }\n",
              "\n",
              "  @keyframes spin {\n",
              "    0% {\n",
              "      border-color: transparent;\n",
              "      border-bottom-color: var(--fill-color);\n",
              "      border-left-color: var(--fill-color);\n",
              "    }\n",
              "    20% {\n",
              "      border-color: transparent;\n",
              "      border-left-color: var(--fill-color);\n",
              "      border-top-color: var(--fill-color);\n",
              "    }\n",
              "    30% {\n",
              "      border-color: transparent;\n",
              "      border-left-color: var(--fill-color);\n",
              "      border-top-color: var(--fill-color);\n",
              "      border-right-color: var(--fill-color);\n",
              "    }\n",
              "    40% {\n",
              "      border-color: transparent;\n",
              "      border-right-color: var(--fill-color);\n",
              "      border-top-color: var(--fill-color);\n",
              "    }\n",
              "    60% {\n",
              "      border-color: transparent;\n",
              "      border-right-color: var(--fill-color);\n",
              "    }\n",
              "    80% {\n",
              "      border-color: transparent;\n",
              "      border-right-color: var(--fill-color);\n",
              "      border-bottom-color: var(--fill-color);\n",
              "    }\n",
              "    90% {\n",
              "      border-color: transparent;\n",
              "      border-bottom-color: var(--fill-color);\n",
              "    }\n",
              "  }\n",
              "</style>\n",
              "\n",
              "  <script>\n",
              "    async function quickchart(key) {\n",
              "      const quickchartButtonEl =\n",
              "        document.querySelector('#' + key + ' button');\n",
              "      quickchartButtonEl.disabled = true;  // To prevent multiple clicks.\n",
              "      quickchartButtonEl.classList.add('colab-df-spinner');\n",
              "      try {\n",
              "        const charts = await google.colab.kernel.invokeFunction(\n",
              "            'suggestCharts', [key], {});\n",
              "      } catch (error) {\n",
              "        console.error('Error during call to suggestCharts:', error);\n",
              "      }\n",
              "      quickchartButtonEl.classList.remove('colab-df-spinner');\n",
              "      quickchartButtonEl.classList.add('colab-df-quickchart-complete');\n",
              "    }\n",
              "    (() => {\n",
              "      let quickchartButtonEl =\n",
              "        document.querySelector('#df-6a69976a-e278-44ff-abe5-5fb847c0c1f2 button');\n",
              "      quickchartButtonEl.style.display =\n",
              "        google.colab.kernel.accessAllowed ? 'block' : 'none';\n",
              "    })();\n",
              "  </script>\n",
              "</div>\n",
              "\n",
              "  <div id=\"id_af23a0c8-b1f4-4875-8f6d-baaa25931cfb\">\n",
              "    <style>\n",
              "      .colab-df-generate {\n",
              "        background-color: #E8F0FE;\n",
              "        border: none;\n",
              "        border-radius: 50%;\n",
              "        cursor: pointer;\n",
              "        display: none;\n",
              "        fill: #1967D2;\n",
              "        height: 32px;\n",
              "        padding: 0 0 0 0;\n",
              "        width: 32px;\n",
              "      }\n",
              "\n",
              "      .colab-df-generate:hover {\n",
              "        background-color: #E2EBFA;\n",
              "        box-shadow: 0px 1px 2px rgba(60, 64, 67, 0.3), 0px 1px 3px 1px rgba(60, 64, 67, 0.15);\n",
              "        fill: #174EA6;\n",
              "      }\n",
              "\n",
              "      [theme=dark] .colab-df-generate {\n",
              "        background-color: #3B4455;\n",
              "        fill: #D2E3FC;\n",
              "      }\n",
              "\n",
              "      [theme=dark] .colab-df-generate:hover {\n",
              "        background-color: #434B5C;\n",
              "        box-shadow: 0px 1px 3px 1px rgba(0, 0, 0, 0.15);\n",
              "        filter: drop-shadow(0px 1px 2px rgba(0, 0, 0, 0.3));\n",
              "        fill: #FFFFFF;\n",
              "      }\n",
              "    </style>\n",
              "    <button class=\"colab-df-generate\" onclick=\"generateWithVariable('topic_df')\"\n",
              "            title=\"Generate code using this dataframe.\"\n",
              "            style=\"display:none;\">\n",
              "\n",
              "  <svg xmlns=\"http://www.w3.org/2000/svg\" height=\"24px\"viewBox=\"0 0 24 24\"\n",
              "       width=\"24px\">\n",
              "    <path d=\"M7,19H8.4L18.45,9,17,7.55,7,17.6ZM5,21V16.75L18.45,3.32a2,2,0,0,1,2.83,0l1.4,1.43a1.91,1.91,0,0,1,.58,1.4,1.91,1.91,0,0,1-.58,1.4L9.25,21ZM18.45,9,17,7.55Zm-12,3A5.31,5.31,0,0,0,4.9,8.1,5.31,5.31,0,0,0,1,6.5,5.31,5.31,0,0,0,4.9,4.9,5.31,5.31,0,0,0,6.5,1,5.31,5.31,0,0,0,8.1,4.9,5.31,5.31,0,0,0,12,6.5,5.46,5.46,0,0,0,6.5,12Z\"/>\n",
              "  </svg>\n",
              "    </button>\n",
              "    <script>\n",
              "      (() => {\n",
              "      const buttonEl =\n",
              "        document.querySelector('#id_af23a0c8-b1f4-4875-8f6d-baaa25931cfb button.colab-df-generate');\n",
              "      buttonEl.style.display =\n",
              "        google.colab.kernel.accessAllowed ? 'block' : 'none';\n",
              "\n",
              "      buttonEl.onclick = () => {\n",
              "        google.colab.notebook.generateWithVariable('topic_df');\n",
              "      }\n",
              "      })();\n",
              "    </script>\n",
              "  </div>\n",
              "\n",
              "    </div>\n",
              "  </div>\n"
            ],
            "application/vnd.google.colaboratory.intrinsic+json": {
              "type": "dataframe",
              "variable_name": "topic_df",
              "summary": "{\n  \"name\": \"topic_df\",\n  \"rows\": 5,\n  \"fields\": [\n    {\n      \"column\": \"title\",\n      \"properties\": {\n        \"dtype\": \"string\",\n        \"num_unique_values\": 5,\n        \"samples\": [\n          \"Ajax\",\n          \"Android\",\n          \"Algorithm\"\n        ],\n        \"semantic_type\": \"\",\n        \"description\": \"\"\n      }\n    },\n    {\n      \"column\": \"description\",\n      \"properties\": {\n        \"dtype\": \"string\",\n        \"num_unique_values\": 5,\n        \"samples\": [\n          \"Ajax is a technique for creating interactive web applications.\",\n          \"Android is an operating system built by Google designed for mobile devices.\",\n          \"Algorithms are self-contained sequences that carry out a variety of tasks.\"\n        ],\n        \"semantic_type\": \"\",\n        \"description\": \"\"\n      }\n    },\n    {\n      \"column\": \"url\",\n      \"properties\": {\n        \"dtype\": \"string\",\n        \"num_unique_values\": 5,\n        \"samples\": [\n          \"https://github.com//topics/ajax\",\n          \"https://github.com//topics/android\",\n          \"https://github.com//topics/algorithm\"\n        ],\n        \"semantic_type\": \"\",\n        \"description\": \"\"\n      }\n    }\n  ]\n}"
            }
          },
          "metadata": {},
          "execution_count": 130
        }
      ]
    },
    {
      "cell_type": "code",
      "source": [
        "topic_df.to_csv(\"github_topics.csv\",index=None)"
      ],
      "metadata": {
        "id": "ympbKAdQmWXj"
      },
      "execution_count": 131,
      "outputs": []
    },
    {
      "cell_type": "markdown",
      "source": [
        "##GETTING  INFORMATION INSIDE THE TOPICS"
      ],
      "metadata": {
        "id": "y8PwoRJNVX-8"
      }
    },
    {
      "cell_type": "code",
      "source": [
        "title=topic_urls[0]\n",
        "content=requests.get(title)\n",
        "title"
      ],
      "metadata": {
        "colab": {
          "base_uri": "https://localhost:8080/",
          "height": 36
        },
        "id": "Ju1yY3kiVsfs",
        "outputId": "e4f70545-c1a1-45c0-e73a-45b415eaa0c8"
      },
      "execution_count": 132,
      "outputs": [
        {
          "output_type": "execute_result",
          "data": {
            "text/plain": [
              "'https://github.com//topics/3d'"
            ],
            "application/vnd.google.colaboratory.intrinsic+json": {
              "type": "string"
            }
          },
          "metadata": {},
          "execution_count": 132
        }
      ]
    },
    {
      "cell_type": "code",
      "source": [
        "title_doc = BeautifulSoup(content.text,\"html.parser\")"
      ],
      "metadata": {
        "id": "N0H9nyMMXH3W"
      },
      "execution_count": 133,
      "outputs": []
    },
    {
      "cell_type": "code",
      "source": [
        "repo_tag_name = title_doc.find_all(\"h3\",{\"class\":\"f3 color-fg-muted text-normal lh-condensed\"})\n",
        "len(repo_tag_name)"
      ],
      "metadata": {
        "colab": {
          "base_uri": "https://localhost:8080/"
        },
        "id": "PtaygnfZbxk9",
        "outputId": "533002d9-eacc-4d3d-efa3-31e877035bb4"
      },
      "execution_count": 134,
      "outputs": [
        {
          "output_type": "execute_result",
          "data": {
            "text/plain": [
              "20"
            ]
          },
          "metadata": {},
          "execution_count": 134
        }
      ]
    },
    {
      "cell_type": "code",
      "source": [
        "a_tags = repo_tag_name[0].find_all(\"a\")\n",
        "a_tags"
      ],
      "metadata": {
        "colab": {
          "base_uri": "https://localhost:8080/"
        },
        "id": "wuDVqLVYekk0",
        "outputId": "2047c74b-02ee-405e-8fca-72371c655910"
      },
      "execution_count": 135,
      "outputs": [
        {
          "output_type": "execute_result",
          "data": {
            "text/plain": [
              "[<a class=\"Link\" data-hydro-click='{\"event_type\":\"explore.click\",\"payload\":{\"click_context\":\"REPOSITORY_CARD\",\"click_target\":\"OWNER\",\"click_visual_representation\":\"REPOSITORY_OWNER_HEADING\",\"actor_id\":null,\"record_id\":97088,\"originating_url\":\"https://github.com/topics/3d\",\"user_id\":null}}' data-hydro-click-hmac=\"c72fbd5c69a8ee7c9c53a4e65de2b93c8fc7552dd793945819639bc165c0f0ba\" data-turbo=\"false\" data-view-component=\"true\" href=\"/mrdoob\">mrdoob</a>,\n",
              " <a class=\"Link text-bold wb-break-word\" data-hydro-click='{\"event_type\":\"explore.click\",\"payload\":{\"click_context\":\"REPOSITORY_CARD\",\"click_target\":\"REPOSITORY\",\"click_visual_representation\":\"REPOSITORY_NAME_HEADING\",\"actor_id\":null,\"record_id\":576201,\"originating_url\":\"https://github.com/topics/3d\",\"user_id\":null}}' data-hydro-click-hmac=\"4a2667db3d63a1739c412e059e5da95afe419df83f70949b5d59dc3478f5c79a\" data-turbo=\"false\" data-view-component=\"true\" href=\"/mrdoob/three.js\">three.js</a>]"
            ]
          },
          "metadata": {},
          "execution_count": 135
        }
      ]
    },
    {
      "cell_type": "code",
      "source": [
        "repo_name = a_tags[0].text.strip()\n",
        "repo_name"
      ],
      "metadata": {
        "colab": {
          "base_uri": "https://localhost:8080/",
          "height": 36
        },
        "id": "IjT_m2Edekir",
        "outputId": "88a98dde-273c-42c4-a01a-01af91500cd8"
      },
      "execution_count": 136,
      "outputs": [
        {
          "output_type": "execute_result",
          "data": {
            "text/plain": [
              "'mrdoob'"
            ],
            "application/vnd.google.colaboratory.intrinsic+json": {
              "type": "string"
            }
          },
          "metadata": {},
          "execution_count": 136
        }
      ]
    },
    {
      "cell_type": "code",
      "source": [
        "repo_title = a_tags[1].text.strip()\n",
        "repo_title\n"
      ],
      "metadata": {
        "colab": {
          "base_uri": "https://localhost:8080/",
          "height": 36
        },
        "id": "37-lW2xbekgj",
        "outputId": "b23e4014-e883-42bc-fcf3-b2674029278d"
      },
      "execution_count": 137,
      "outputs": [
        {
          "output_type": "execute_result",
          "data": {
            "text/plain": [
              "'three.js'"
            ],
            "application/vnd.google.colaboratory.intrinsic+json": {
              "type": "string"
            }
          },
          "metadata": {},
          "execution_count": 137
        }
      ]
    },
    {
      "cell_type": "code",
      "source": [
        "base_url = \"https://github.com/\""
      ],
      "metadata": {
        "id": "pREWsAjGf1Ql"
      },
      "execution_count": 138,
      "outputs": []
    },
    {
      "cell_type": "code",
      "source": [
        "repo_url = base_url+ a_tags[1][\"href\"]"
      ],
      "metadata": {
        "id": "HdEFqHT1ekeM"
      },
      "execution_count": 139,
      "outputs": []
    },
    {
      "cell_type": "code",
      "source": [
        "print(repo_url)"
      ],
      "metadata": {
        "colab": {
          "base_uri": "https://localhost:8080/"
        },
        "id": "PhQoO9DKftts",
        "outputId": "5ca4b010-2a76-4bad-e956-c5f9b4eb8a34"
      },
      "execution_count": 140,
      "outputs": [
        {
          "output_type": "stream",
          "name": "stdout",
          "text": [
            "https://github.com//mrdoob/three.js\n"
          ]
        }
      ]
    },
    {
      "cell_type": "code",
      "source": [
        "star_tags_rating=title_doc.find_all(\"span\",{\"class\":\"Counter js-social-count\"})"
      ],
      "metadata": {
        "id": "PdKbzknYftr2"
      },
      "execution_count": 141,
      "outputs": []
    },
    {
      "cell_type": "code",
      "source": [
        "len(star_tags_rating)"
      ],
      "metadata": {
        "colab": {
          "base_uri": "https://localhost:8080/"
        },
        "id": "yM9ba3eTftqN",
        "outputId": "78a512b8-1fdc-4aa1-9a0a-08e5f3989266"
      },
      "execution_count": 142,
      "outputs": [
        {
          "output_type": "execute_result",
          "data": {
            "text/plain": [
              "20"
            ]
          },
          "metadata": {},
          "execution_count": 142
        }
      ]
    },
    {
      "cell_type": "code",
      "source": [
        "star_tags_rating[3].text.strip()\n"
      ],
      "metadata": {
        "colab": {
          "base_uri": "https://localhost:8080/",
          "height": 36
        },
        "id": "vT_sCq1-qYVu",
        "outputId": "92639bb1-8698-4989-9a96-1d37be5b05eb"
      },
      "execution_count": 143,
      "outputs": [
        {
          "output_type": "execute_result",
          "data": {
            "text/plain": [
              "'23.5k'"
            ],
            "application/vnd.google.colaboratory.intrinsic+json": {
              "type": "string"
            }
          },
          "metadata": {},
          "execution_count": 143
        }
      ]
    },
    {
      "cell_type": "code",
      "source": [
        "def parse_star_count(star_rating):\n",
        "  star_rating = star_rating.replace(\"k\",\"\")\n",
        "  star_rating = int(float(star_rating))\n",
        "  return star_rating*1000"
      ],
      "metadata": {
        "id": "5TTW0_aTftk6"
      },
      "execution_count": 144,
      "outputs": []
    },
    {
      "cell_type": "code",
      "source": [
        "parse_star_count(star_tags_rating[3].text.strip())"
      ],
      "metadata": {
        "colab": {
          "base_uri": "https://localhost:8080/"
        },
        "id": "AdZUzRXOftjH",
        "outputId": "12699658-b317-4cb1-8c95-5075f8df39c1"
      },
      "execution_count": 145,
      "outputs": [
        {
          "output_type": "execute_result",
          "data": {
            "text/plain": [
              "23000"
            ]
          },
          "metadata": {},
          "execution_count": 145
        }
      ]
    },
    {
      "cell_type": "code",
      "source": [
        "def get_repo_info(repo_tag_name):\n",
        "  a_tags = repo_tag_name.find_all(\"a\")\n",
        "  repo_name = a_tags[0].text.strip()\n",
        "  repo_title = a_tags[1].text.strip()\n",
        "  repo_url = base_url+ a_tags[1][\"href\"]\n",
        "  # repo_star_rating = parse_star_count(star_tags_rating.text.strip())\n",
        "  return repo_name,repo_title,repo_url\n",
        "# print(repo_star_rating)"
      ],
      "metadata": {
        "id": "uZgbKFuUftg2"
      },
      "execution_count": 146,
      "outputs": []
    },
    {
      "cell_type": "code",
      "source": [
        "len(repo_tag_name)"
      ],
      "metadata": {
        "id": "Ofp-ObiVOSuJ",
        "colab": {
          "base_uri": "https://localhost:8080/"
        },
        "outputId": "fc1aa729-3c1c-4c0a-85ad-256f840c817b"
      },
      "execution_count": 147,
      "outputs": [
        {
          "output_type": "execute_result",
          "data": {
            "text/plain": [
              "20"
            ]
          },
          "metadata": {},
          "execution_count": 147
        }
      ]
    },
    {
      "cell_type": "code",
      "source": [
        "repos_dict = {\n",
        "    \"repo_name\" : [],\n",
        "    \"repo_title\" : [],\n",
        "    \"repo_url\" : [],\n",
        "    # \"repo_star_rating\" : []\n",
        "}\n",
        "\n",
        "for i in range(len(repo_tag_name)):\n",
        "  repo_info = get_repo_info(repo_tag_name[i])\n",
        "  repos_dict[\"repo_name\"].append(repo_info[0])\n",
        "  repos_dict[\"repo_title\"].append(repo_info[1])\n",
        "  repos_dict[\"repo_url\"].append(repo_info[2])\n",
        "  # repos_dict[\"repo_star_rating\"].append(repo_info[3])\n",
        "\n"
      ],
      "metadata": {
        "id": "s8zkXIur7zUl"
      },
      "execution_count": 148,
      "outputs": []
    },
    {
      "cell_type": "code",
      "source": [
        "repos_dict"
      ],
      "metadata": {
        "colab": {
          "base_uri": "https://localhost:8080/"
        },
        "collapsed": true,
        "id": "W66aOuSI7zSP",
        "outputId": "ed3d963b-3afd-4996-c711-f69861a3f839"
      },
      "execution_count": 149,
      "outputs": [
        {
          "output_type": "execute_result",
          "data": {
            "text/plain": [
              "{'repo_name': ['mrdoob',\n",
              "  'pmndrs',\n",
              "  'libgdx',\n",
              "  'BabylonJS',\n",
              "  'FreeCAD',\n",
              "  'ssloy',\n",
              "  'lettier',\n",
              "  'aframevr',\n",
              "  'blender',\n",
              "  'CesiumGS',\n",
              "  '4ian',\n",
              "  'isl-org',\n",
              "  'MonoGame',\n",
              "  'mapbox',\n",
              "  'metafizzy',\n",
              "  'timzhang642',\n",
              "  'nerfstudio-project',\n",
              "  'cocos',\n",
              "  'domlysz',\n",
              "  'FyroxEngine'],\n",
              " 'repo_title': ['three.js',\n",
              "  'react-three-fiber',\n",
              "  'libgdx',\n",
              "  'Babylon.js',\n",
              "  'FreeCAD',\n",
              "  'tinyrenderer',\n",
              "  '3d-game-shaders-for-beginners',\n",
              "  'aframe',\n",
              "  'blender',\n",
              "  'cesium',\n",
              "  'GDevelop',\n",
              "  'Open3D',\n",
              "  'MonoGame',\n",
              "  'mapbox-gl-js',\n",
              "  'zdog',\n",
              "  '3D-Machine-Learning',\n",
              "  'nerfstudio',\n",
              "  'cocos-engine',\n",
              "  'BlenderGIS',\n",
              "  'Fyrox'],\n",
              " 'repo_url': ['https://github.com//mrdoob/three.js',\n",
              "  'https://github.com//pmndrs/react-three-fiber',\n",
              "  'https://github.com//libgdx/libgdx',\n",
              "  'https://github.com//BabylonJS/Babylon.js',\n",
              "  'https://github.com//FreeCAD/FreeCAD',\n",
              "  'https://github.com//ssloy/tinyrenderer',\n",
              "  'https://github.com//lettier/3d-game-shaders-for-beginners',\n",
              "  'https://github.com//aframevr/aframe',\n",
              "  'https://github.com//blender/blender',\n",
              "  'https://github.com//CesiumGS/cesium',\n",
              "  'https://github.com//4ian/GDevelop',\n",
              "  'https://github.com//isl-org/Open3D',\n",
              "  'https://github.com//MonoGame/MonoGame',\n",
              "  'https://github.com//mapbox/mapbox-gl-js',\n",
              "  'https://github.com//metafizzy/zdog',\n",
              "  'https://github.com//timzhang642/3D-Machine-Learning',\n",
              "  'https://github.com//nerfstudio-project/nerfstudio',\n",
              "  'https://github.com//cocos/cocos-engine',\n",
              "  'https://github.com//domlysz/BlenderGIS',\n",
              "  'https://github.com//FyroxEngine/Fyrox']}"
            ]
          },
          "metadata": {},
          "execution_count": 149
        }
      ]
    },
    {
      "cell_type": "code",
      "source": [
        "repos_df = pd.DataFrame(repos_dict)[:5]\n",
        "repos_df"
      ],
      "metadata": {
        "colab": {
          "base_uri": "https://localhost:8080/",
          "height": 206
        },
        "id": "nJQ0iPQqISxj",
        "outputId": "1d413403-5247-4f40-f7b6-5b6bacc0aa6e"
      },
      "execution_count": 150,
      "outputs": [
        {
          "output_type": "execute_result",
          "data": {
            "text/plain": [
              "   repo_name         repo_title                                      repo_url\n",
              "0     mrdoob           three.js           https://github.com//mrdoob/three.js\n",
              "1     pmndrs  react-three-fiber  https://github.com//pmndrs/react-three-fiber\n",
              "2     libgdx             libgdx             https://github.com//libgdx/libgdx\n",
              "3  BabylonJS         Babylon.js      https://github.com//BabylonJS/Babylon.js\n",
              "4    FreeCAD            FreeCAD           https://github.com//FreeCAD/FreeCAD"
            ],
            "text/html": [
              "\n",
              "  <div id=\"df-8b9d63b6-db39-45b5-958d-033a65552d9a\" class=\"colab-df-container\">\n",
              "    <div>\n",
              "<style scoped>\n",
              "    .dataframe tbody tr th:only-of-type {\n",
              "        vertical-align: middle;\n",
              "    }\n",
              "\n",
              "    .dataframe tbody tr th {\n",
              "        vertical-align: top;\n",
              "    }\n",
              "\n",
              "    .dataframe thead th {\n",
              "        text-align: right;\n",
              "    }\n",
              "</style>\n",
              "<table border=\"1\" class=\"dataframe\">\n",
              "  <thead>\n",
              "    <tr style=\"text-align: right;\">\n",
              "      <th></th>\n",
              "      <th>repo_name</th>\n",
              "      <th>repo_title</th>\n",
              "      <th>repo_url</th>\n",
              "    </tr>\n",
              "  </thead>\n",
              "  <tbody>\n",
              "    <tr>\n",
              "      <th>0</th>\n",
              "      <td>mrdoob</td>\n",
              "      <td>three.js</td>\n",
              "      <td>https://github.com//mrdoob/three.js</td>\n",
              "    </tr>\n",
              "    <tr>\n",
              "      <th>1</th>\n",
              "      <td>pmndrs</td>\n",
              "      <td>react-three-fiber</td>\n",
              "      <td>https://github.com//pmndrs/react-three-fiber</td>\n",
              "    </tr>\n",
              "    <tr>\n",
              "      <th>2</th>\n",
              "      <td>libgdx</td>\n",
              "      <td>libgdx</td>\n",
              "      <td>https://github.com//libgdx/libgdx</td>\n",
              "    </tr>\n",
              "    <tr>\n",
              "      <th>3</th>\n",
              "      <td>BabylonJS</td>\n",
              "      <td>Babylon.js</td>\n",
              "      <td>https://github.com//BabylonJS/Babylon.js</td>\n",
              "    </tr>\n",
              "    <tr>\n",
              "      <th>4</th>\n",
              "      <td>FreeCAD</td>\n",
              "      <td>FreeCAD</td>\n",
              "      <td>https://github.com//FreeCAD/FreeCAD</td>\n",
              "    </tr>\n",
              "  </tbody>\n",
              "</table>\n",
              "</div>\n",
              "    <div class=\"colab-df-buttons\">\n",
              "\n",
              "  <div class=\"colab-df-container\">\n",
              "    <button class=\"colab-df-convert\" onclick=\"convertToInteractive('df-8b9d63b6-db39-45b5-958d-033a65552d9a')\"\n",
              "            title=\"Convert this dataframe to an interactive table.\"\n",
              "            style=\"display:none;\">\n",
              "\n",
              "  <svg xmlns=\"http://www.w3.org/2000/svg\" height=\"24px\" viewBox=\"0 -960 960 960\">\n",
              "    <path d=\"M120-120v-720h720v720H120Zm60-500h600v-160H180v160Zm220 220h160v-160H400v160Zm0 220h160v-160H400v160ZM180-400h160v-160H180v160Zm440 0h160v-160H620v160ZM180-180h160v-160H180v160Zm440 0h160v-160H620v160Z\"/>\n",
              "  </svg>\n",
              "    </button>\n",
              "\n",
              "  <style>\n",
              "    .colab-df-container {\n",
              "      display:flex;\n",
              "      gap: 12px;\n",
              "    }\n",
              "\n",
              "    .colab-df-convert {\n",
              "      background-color: #E8F0FE;\n",
              "      border: none;\n",
              "      border-radius: 50%;\n",
              "      cursor: pointer;\n",
              "      display: none;\n",
              "      fill: #1967D2;\n",
              "      height: 32px;\n",
              "      padding: 0 0 0 0;\n",
              "      width: 32px;\n",
              "    }\n",
              "\n",
              "    .colab-df-convert:hover {\n",
              "      background-color: #E2EBFA;\n",
              "      box-shadow: 0px 1px 2px rgba(60, 64, 67, 0.3), 0px 1px 3px 1px rgba(60, 64, 67, 0.15);\n",
              "      fill: #174EA6;\n",
              "    }\n",
              "\n",
              "    .colab-df-buttons div {\n",
              "      margin-bottom: 4px;\n",
              "    }\n",
              "\n",
              "    [theme=dark] .colab-df-convert {\n",
              "      background-color: #3B4455;\n",
              "      fill: #D2E3FC;\n",
              "    }\n",
              "\n",
              "    [theme=dark] .colab-df-convert:hover {\n",
              "      background-color: #434B5C;\n",
              "      box-shadow: 0px 1px 3px 1px rgba(0, 0, 0, 0.15);\n",
              "      filter: drop-shadow(0px 1px 2px rgba(0, 0, 0, 0.3));\n",
              "      fill: #FFFFFF;\n",
              "    }\n",
              "  </style>\n",
              "\n",
              "    <script>\n",
              "      const buttonEl =\n",
              "        document.querySelector('#df-8b9d63b6-db39-45b5-958d-033a65552d9a button.colab-df-convert');\n",
              "      buttonEl.style.display =\n",
              "        google.colab.kernel.accessAllowed ? 'block' : 'none';\n",
              "\n",
              "      async function convertToInteractive(key) {\n",
              "        const element = document.querySelector('#df-8b9d63b6-db39-45b5-958d-033a65552d9a');\n",
              "        const dataTable =\n",
              "          await google.colab.kernel.invokeFunction('convertToInteractive',\n",
              "                                                    [key], {});\n",
              "        if (!dataTable) return;\n",
              "\n",
              "        const docLinkHtml = 'Like what you see? Visit the ' +\n",
              "          '<a target=\"_blank\" href=https://colab.research.google.com/notebooks/data_table.ipynb>data table notebook</a>'\n",
              "          + ' to learn more about interactive tables.';\n",
              "        element.innerHTML = '';\n",
              "        dataTable['output_type'] = 'display_data';\n",
              "        await google.colab.output.renderOutput(dataTable, element);\n",
              "        const docLink = document.createElement('div');\n",
              "        docLink.innerHTML = docLinkHtml;\n",
              "        element.appendChild(docLink);\n",
              "      }\n",
              "    </script>\n",
              "  </div>\n",
              "\n",
              "\n",
              "<div id=\"df-3e755648-6dd3-4d0d-976c-ab4d888f5a05\">\n",
              "  <button class=\"colab-df-quickchart\" onclick=\"quickchart('df-3e755648-6dd3-4d0d-976c-ab4d888f5a05')\"\n",
              "            title=\"Suggest charts\"\n",
              "            style=\"display:none;\">\n",
              "\n",
              "<svg xmlns=\"http://www.w3.org/2000/svg\" height=\"24px\"viewBox=\"0 0 24 24\"\n",
              "     width=\"24px\">\n",
              "    <g>\n",
              "        <path d=\"M19 3H5c-1.1 0-2 .9-2 2v14c0 1.1.9 2 2 2h14c1.1 0 2-.9 2-2V5c0-1.1-.9-2-2-2zM9 17H7v-7h2v7zm4 0h-2V7h2v10zm4 0h-2v-4h2v4z\"/>\n",
              "    </g>\n",
              "</svg>\n",
              "  </button>\n",
              "\n",
              "<style>\n",
              "  .colab-df-quickchart {\n",
              "      --bg-color: #E8F0FE;\n",
              "      --fill-color: #1967D2;\n",
              "      --hover-bg-color: #E2EBFA;\n",
              "      --hover-fill-color: #174EA6;\n",
              "      --disabled-fill-color: #AAA;\n",
              "      --disabled-bg-color: #DDD;\n",
              "  }\n",
              "\n",
              "  [theme=dark] .colab-df-quickchart {\n",
              "      --bg-color: #3B4455;\n",
              "      --fill-color: #D2E3FC;\n",
              "      --hover-bg-color: #434B5C;\n",
              "      --hover-fill-color: #FFFFFF;\n",
              "      --disabled-bg-color: #3B4455;\n",
              "      --disabled-fill-color: #666;\n",
              "  }\n",
              "\n",
              "  .colab-df-quickchart {\n",
              "    background-color: var(--bg-color);\n",
              "    border: none;\n",
              "    border-radius: 50%;\n",
              "    cursor: pointer;\n",
              "    display: none;\n",
              "    fill: var(--fill-color);\n",
              "    height: 32px;\n",
              "    padding: 0;\n",
              "    width: 32px;\n",
              "  }\n",
              "\n",
              "  .colab-df-quickchart:hover {\n",
              "    background-color: var(--hover-bg-color);\n",
              "    box-shadow: 0 1px 2px rgba(60, 64, 67, 0.3), 0 1px 3px 1px rgba(60, 64, 67, 0.15);\n",
              "    fill: var(--button-hover-fill-color);\n",
              "  }\n",
              "\n",
              "  .colab-df-quickchart-complete:disabled,\n",
              "  .colab-df-quickchart-complete:disabled:hover {\n",
              "    background-color: var(--disabled-bg-color);\n",
              "    fill: var(--disabled-fill-color);\n",
              "    box-shadow: none;\n",
              "  }\n",
              "\n",
              "  .colab-df-spinner {\n",
              "    border: 2px solid var(--fill-color);\n",
              "    border-color: transparent;\n",
              "    border-bottom-color: var(--fill-color);\n",
              "    animation:\n",
              "      spin 1s steps(1) infinite;\n",
              "  }\n",
              "\n",
              "  @keyframes spin {\n",
              "    0% {\n",
              "      border-color: transparent;\n",
              "      border-bottom-color: var(--fill-color);\n",
              "      border-left-color: var(--fill-color);\n",
              "    }\n",
              "    20% {\n",
              "      border-color: transparent;\n",
              "      border-left-color: var(--fill-color);\n",
              "      border-top-color: var(--fill-color);\n",
              "    }\n",
              "    30% {\n",
              "      border-color: transparent;\n",
              "      border-left-color: var(--fill-color);\n",
              "      border-top-color: var(--fill-color);\n",
              "      border-right-color: var(--fill-color);\n",
              "    }\n",
              "    40% {\n",
              "      border-color: transparent;\n",
              "      border-right-color: var(--fill-color);\n",
              "      border-top-color: var(--fill-color);\n",
              "    }\n",
              "    60% {\n",
              "      border-color: transparent;\n",
              "      border-right-color: var(--fill-color);\n",
              "    }\n",
              "    80% {\n",
              "      border-color: transparent;\n",
              "      border-right-color: var(--fill-color);\n",
              "      border-bottom-color: var(--fill-color);\n",
              "    }\n",
              "    90% {\n",
              "      border-color: transparent;\n",
              "      border-bottom-color: var(--fill-color);\n",
              "    }\n",
              "  }\n",
              "</style>\n",
              "\n",
              "  <script>\n",
              "    async function quickchart(key) {\n",
              "      const quickchartButtonEl =\n",
              "        document.querySelector('#' + key + ' button');\n",
              "      quickchartButtonEl.disabled = true;  // To prevent multiple clicks.\n",
              "      quickchartButtonEl.classList.add('colab-df-spinner');\n",
              "      try {\n",
              "        const charts = await google.colab.kernel.invokeFunction(\n",
              "            'suggestCharts', [key], {});\n",
              "      } catch (error) {\n",
              "        console.error('Error during call to suggestCharts:', error);\n",
              "      }\n",
              "      quickchartButtonEl.classList.remove('colab-df-spinner');\n",
              "      quickchartButtonEl.classList.add('colab-df-quickchart-complete');\n",
              "    }\n",
              "    (() => {\n",
              "      let quickchartButtonEl =\n",
              "        document.querySelector('#df-3e755648-6dd3-4d0d-976c-ab4d888f5a05 button');\n",
              "      quickchartButtonEl.style.display =\n",
              "        google.colab.kernel.accessAllowed ? 'block' : 'none';\n",
              "    })();\n",
              "  </script>\n",
              "</div>\n",
              "\n",
              "  <div id=\"id_4670e081-2d4b-4dd6-8d66-68607ca470a0\">\n",
              "    <style>\n",
              "      .colab-df-generate {\n",
              "        background-color: #E8F0FE;\n",
              "        border: none;\n",
              "        border-radius: 50%;\n",
              "        cursor: pointer;\n",
              "        display: none;\n",
              "        fill: #1967D2;\n",
              "        height: 32px;\n",
              "        padding: 0 0 0 0;\n",
              "        width: 32px;\n",
              "      }\n",
              "\n",
              "      .colab-df-generate:hover {\n",
              "        background-color: #E2EBFA;\n",
              "        box-shadow: 0px 1px 2px rgba(60, 64, 67, 0.3), 0px 1px 3px 1px rgba(60, 64, 67, 0.15);\n",
              "        fill: #174EA6;\n",
              "      }\n",
              "\n",
              "      [theme=dark] .colab-df-generate {\n",
              "        background-color: #3B4455;\n",
              "        fill: #D2E3FC;\n",
              "      }\n",
              "\n",
              "      [theme=dark] .colab-df-generate:hover {\n",
              "        background-color: #434B5C;\n",
              "        box-shadow: 0px 1px 3px 1px rgba(0, 0, 0, 0.15);\n",
              "        filter: drop-shadow(0px 1px 2px rgba(0, 0, 0, 0.3));\n",
              "        fill: #FFFFFF;\n",
              "      }\n",
              "    </style>\n",
              "    <button class=\"colab-df-generate\" onclick=\"generateWithVariable('repos_df')\"\n",
              "            title=\"Generate code using this dataframe.\"\n",
              "            style=\"display:none;\">\n",
              "\n",
              "  <svg xmlns=\"http://www.w3.org/2000/svg\" height=\"24px\"viewBox=\"0 0 24 24\"\n",
              "       width=\"24px\">\n",
              "    <path d=\"M7,19H8.4L18.45,9,17,7.55,7,17.6ZM5,21V16.75L18.45,3.32a2,2,0,0,1,2.83,0l1.4,1.43a1.91,1.91,0,0,1,.58,1.4,1.91,1.91,0,0,1-.58,1.4L9.25,21ZM18.45,9,17,7.55Zm-12,3A5.31,5.31,0,0,0,4.9,8.1,5.31,5.31,0,0,0,1,6.5,5.31,5.31,0,0,0,4.9,4.9,5.31,5.31,0,0,0,6.5,1,5.31,5.31,0,0,0,8.1,4.9,5.31,5.31,0,0,0,12,6.5,5.46,5.46,0,0,0,6.5,12Z\"/>\n",
              "  </svg>\n",
              "    </button>\n",
              "    <script>\n",
              "      (() => {\n",
              "      const buttonEl =\n",
              "        document.querySelector('#id_4670e081-2d4b-4dd6-8d66-68607ca470a0 button.colab-df-generate');\n",
              "      buttonEl.style.display =\n",
              "        google.colab.kernel.accessAllowed ? 'block' : 'none';\n",
              "\n",
              "      buttonEl.onclick = () => {\n",
              "        google.colab.notebook.generateWithVariable('repos_df');\n",
              "      }\n",
              "      })();\n",
              "    </script>\n",
              "  </div>\n",
              "\n",
              "    </div>\n",
              "  </div>\n"
            ],
            "application/vnd.google.colaboratory.intrinsic+json": {
              "type": "dataframe",
              "variable_name": "repos_df",
              "summary": "{\n  \"name\": \"repos_df\",\n  \"rows\": 5,\n  \"fields\": [\n    {\n      \"column\": \"repo_name\",\n      \"properties\": {\n        \"dtype\": \"string\",\n        \"num_unique_values\": 5,\n        \"samples\": [\n          \"pmndrs\",\n          \"FreeCAD\",\n          \"libgdx\"\n        ],\n        \"semantic_type\": \"\",\n        \"description\": \"\"\n      }\n    },\n    {\n      \"column\": \"repo_title\",\n      \"properties\": {\n        \"dtype\": \"string\",\n        \"num_unique_values\": 5,\n        \"samples\": [\n          \"react-three-fiber\",\n          \"FreeCAD\",\n          \"libgdx\"\n        ],\n        \"semantic_type\": \"\",\n        \"description\": \"\"\n      }\n    },\n    {\n      \"column\": \"repo_url\",\n      \"properties\": {\n        \"dtype\": \"string\",\n        \"num_unique_values\": 5,\n        \"samples\": [\n          \"https://github.com//pmndrs/react-three-fiber\",\n          \"https://github.com//FreeCAD/FreeCAD\",\n          \"https://github.com//libgdx/libgdx\"\n        ],\n        \"semantic_type\": \"\",\n        \"description\": \"\"\n      }\n    }\n  ]\n}"
            }
          },
          "metadata": {},
          "execution_count": 150
        }
      ]
    },
    {
      "cell_type": "code",
      "source": [
        "  def get_repositories(topic_doc):\n",
        "\n",
        "    repo_tag_name = topic_doc.find_all(\"h3\",{\"class\":\"f3 color-fg-muted text-normal lh-condensed\"})\n",
        "\n",
        "    repos_dict = {\n",
        "\n",
        "      \"repo_name\" : [],\n",
        "      \"repo_title\" : [],\n",
        "      \"repo_url\" : [],\n",
        "      # \"repo_star_rating\" : []\n",
        "       }\n",
        "\n",
        "    for i in range(len(repo_tag_name)):\n",
        "      repo_info = get_repo_info(repo_tag_name[i])\n",
        "      repos_dict[\"repo_name\"].append(repo_info[0])\n",
        "      repos_dict[\"repo_title\"].append(repo_info[1])\n",
        "      repos_dict[\"repo_url\"].append(repo_info[2])\n",
        "      # repos_dict[\"repo_star_rating\"].append(repo_info[3])\n",
        "      repos_df = pd.DataFrame(repos_dict)\n",
        "\n",
        "    return repos_df\n"
      ],
      "metadata": {
        "id": "3Wj83_OOUZJS"
      },
      "execution_count": 151,
      "outputs": []
    },
    {
      "cell_type": "code",
      "source": [
        "topic_urls"
      ],
      "metadata": {
        "colab": {
          "base_uri": "https://localhost:8080/"
        },
        "id": "YD16kXNfm-pT",
        "outputId": "02fc20c4-8834-435a-99e5-4900ea4084ba"
      },
      "execution_count": 152,
      "outputs": [
        {
          "output_type": "execute_result",
          "data": {
            "text/plain": [
              "['https://github.com//topics/3d',\n",
              " 'https://github.com//topics/ajax',\n",
              " 'https://github.com//topics/algorithm',\n",
              " 'https://github.com//topics/amphp',\n",
              " 'https://github.com//topics/android']"
            ]
          },
          "metadata": {},
          "execution_count": 152
        }
      ]
    },
    {
      "cell_type": "code",
      "source": [
        "import requests\n",
        "from bs4 import BeautifulSoup\n",
        "import pandas as pd\n",
        "\n",
        "base_url = \"https://github.com\"\n",
        "\n",
        "def get_topic_page(topic_url):\n",
        "    response = requests.get(topic_url)\n",
        "\n",
        "    if response.status_code != 200:\n",
        "        raise Exception(\"Failed to load page {}\".format(topic_url))\n",
        "\n",
        "    topic_doc = BeautifulSoup(response.text, \"html.parser\")\n",
        "    return topic_doc\n",
        "\n",
        "def get_repositories(topic_doc):\n",
        "    # Fetch repository tags\n",
        "    repo_tag_name = topic_doc.find_all(\"h3\", {\"class\": \"f3 color-fg-muted text-normal lh-condensed\"})\n",
        "\n",
        "    def get_repo_info(repo_tag):\n",
        "        a_tags = repo_tag.find_all(\"a\")\n",
        "        repo_name = a_tags[0].text.strip()\n",
        "        repo_title = a_tags[1].text.strip()\n",
        "        repo_url = base_url + a_tags[1][\"href\"]\n",
        "        return repo_name, repo_title, repo_url\n",
        "\n",
        "    repos_dict = {\n",
        "        \"repo_name\": [],\n",
        "        \"repo_title\": [],\n",
        "        \"repo_url\": []\n",
        "    }\n",
        "\n",
        "    for repo_tag in repo_tag_name:\n",
        "        repo_info = get_repo_info(repo_tag)\n",
        "        repos_dict[\"repo_name\"].append(repo_info[0])\n",
        "        repos_dict[\"repo_title\"].append(repo_info[1])\n",
        "        repos_dict[\"repo_url\"].append(repo_info[2])\n",
        "\n",
        "    repos_df = pd.DataFrame(repos_dict)\n",
        "    return repos_df\n",
        "\n",
        "\n"
      ],
      "metadata": {
        "id": "8o_w450jISqV",
        "collapsed": true
      },
      "execution_count": 153,
      "outputs": []
    },
    {
      "cell_type": "code",
      "source": [
        "get_repositories(get_topic_page(topic_urls[4]))"
      ],
      "metadata": {
        "id": "g1_bpZUwISnz",
        "colab": {
          "base_uri": "https://localhost:8080/",
          "height": 763
        },
        "outputId": "f843646c-dc96-4dc6-938b-410f73b76d4b"
      },
      "execution_count": 154,
      "outputs": [
        {
          "output_type": "execute_result",
          "data": {
            "text/plain": [
              "           repo_name                    repo_title  \\\n",
              "0            flutter                       flutter   \n",
              "1           facebook                  react-native   \n",
              "2         Genymobile                        scrcpy   \n",
              "3          justjavac  free-programming-books-zh_CN   \n",
              "4   Hack-with-Github               Awesome-Hacking   \n",
              "5             Solido               awesome-flutter   \n",
              "6         tldr-pages                          tldr   \n",
              "7           wasabeef            awesome-android-ui   \n",
              "8             google         material-design-icons   \n",
              "9          laurent22                        joplin   \n",
              "10          appwrite                      appwrite   \n",
              "11            square                        okhttp   \n",
              "12           android          architecture-samples   \n",
              "13            square                      retrofit   \n",
              "14            skylot                          jadx   \n",
              "15          dcloudio                       uni-app   \n",
              "16          fastlane                      fastlane   \n",
              "17            termux                    termux-app   \n",
              "18             2dust                       v2rayNG   \n",
              "19           PhilJay                MPAndroidChart   \n",
              "\n",
              "                                             repo_url  \n",
              "0                  https://github.com/flutter/flutter  \n",
              "1            https://github.com/facebook/react-native  \n",
              "2                https://github.com/Genymobile/scrcpy  \n",
              "3   https://github.com/justjavac/free-programming-...  \n",
              "4   https://github.com/Hack-with-Github/Awesome-Ha...  \n",
              "5           https://github.com/Solido/awesome-flutter  \n",
              "6                  https://github.com/tldr-pages/tldr  \n",
              "7      https://github.com/wasabeef/awesome-android-ui  \n",
              "8     https://github.com/google/material-design-icons  \n",
              "9                 https://github.com/laurent22/joplin  \n",
              "10               https://github.com/appwrite/appwrite  \n",
              "11                   https://github.com/square/okhttp  \n",
              "12    https://github.com/android/architecture-samples  \n",
              "13                 https://github.com/square/retrofit  \n",
              "14                     https://github.com/skylot/jadx  \n",
              "15                https://github.com/dcloudio/uni-app  \n",
              "16               https://github.com/fastlane/fastlane  \n",
              "17               https://github.com/termux/termux-app  \n",
              "18                   https://github.com/2dust/v2rayNG  \n",
              "19          https://github.com/PhilJay/MPAndroidChart  "
            ],
            "text/html": [
              "\n",
              "  <div id=\"df-877417cb-e959-40b0-a175-0a2981f8a696\" class=\"colab-df-container\">\n",
              "    <div>\n",
              "<style scoped>\n",
              "    .dataframe tbody tr th:only-of-type {\n",
              "        vertical-align: middle;\n",
              "    }\n",
              "\n",
              "    .dataframe tbody tr th {\n",
              "        vertical-align: top;\n",
              "    }\n",
              "\n",
              "    .dataframe thead th {\n",
              "        text-align: right;\n",
              "    }\n",
              "</style>\n",
              "<table border=\"1\" class=\"dataframe\">\n",
              "  <thead>\n",
              "    <tr style=\"text-align: right;\">\n",
              "      <th></th>\n",
              "      <th>repo_name</th>\n",
              "      <th>repo_title</th>\n",
              "      <th>repo_url</th>\n",
              "    </tr>\n",
              "  </thead>\n",
              "  <tbody>\n",
              "    <tr>\n",
              "      <th>0</th>\n",
              "      <td>flutter</td>\n",
              "      <td>flutter</td>\n",
              "      <td>https://github.com/flutter/flutter</td>\n",
              "    </tr>\n",
              "    <tr>\n",
              "      <th>1</th>\n",
              "      <td>facebook</td>\n",
              "      <td>react-native</td>\n",
              "      <td>https://github.com/facebook/react-native</td>\n",
              "    </tr>\n",
              "    <tr>\n",
              "      <th>2</th>\n",
              "      <td>Genymobile</td>\n",
              "      <td>scrcpy</td>\n",
              "      <td>https://github.com/Genymobile/scrcpy</td>\n",
              "    </tr>\n",
              "    <tr>\n",
              "      <th>3</th>\n",
              "      <td>justjavac</td>\n",
              "      <td>free-programming-books-zh_CN</td>\n",
              "      <td>https://github.com/justjavac/free-programming-...</td>\n",
              "    </tr>\n",
              "    <tr>\n",
              "      <th>4</th>\n",
              "      <td>Hack-with-Github</td>\n",
              "      <td>Awesome-Hacking</td>\n",
              "      <td>https://github.com/Hack-with-Github/Awesome-Ha...</td>\n",
              "    </tr>\n",
              "    <tr>\n",
              "      <th>5</th>\n",
              "      <td>Solido</td>\n",
              "      <td>awesome-flutter</td>\n",
              "      <td>https://github.com/Solido/awesome-flutter</td>\n",
              "    </tr>\n",
              "    <tr>\n",
              "      <th>6</th>\n",
              "      <td>tldr-pages</td>\n",
              "      <td>tldr</td>\n",
              "      <td>https://github.com/tldr-pages/tldr</td>\n",
              "    </tr>\n",
              "    <tr>\n",
              "      <th>7</th>\n",
              "      <td>wasabeef</td>\n",
              "      <td>awesome-android-ui</td>\n",
              "      <td>https://github.com/wasabeef/awesome-android-ui</td>\n",
              "    </tr>\n",
              "    <tr>\n",
              "      <th>8</th>\n",
              "      <td>google</td>\n",
              "      <td>material-design-icons</td>\n",
              "      <td>https://github.com/google/material-design-icons</td>\n",
              "    </tr>\n",
              "    <tr>\n",
              "      <th>9</th>\n",
              "      <td>laurent22</td>\n",
              "      <td>joplin</td>\n",
              "      <td>https://github.com/laurent22/joplin</td>\n",
              "    </tr>\n",
              "    <tr>\n",
              "      <th>10</th>\n",
              "      <td>appwrite</td>\n",
              "      <td>appwrite</td>\n",
              "      <td>https://github.com/appwrite/appwrite</td>\n",
              "    </tr>\n",
              "    <tr>\n",
              "      <th>11</th>\n",
              "      <td>square</td>\n",
              "      <td>okhttp</td>\n",
              "      <td>https://github.com/square/okhttp</td>\n",
              "    </tr>\n",
              "    <tr>\n",
              "      <th>12</th>\n",
              "      <td>android</td>\n",
              "      <td>architecture-samples</td>\n",
              "      <td>https://github.com/android/architecture-samples</td>\n",
              "    </tr>\n",
              "    <tr>\n",
              "      <th>13</th>\n",
              "      <td>square</td>\n",
              "      <td>retrofit</td>\n",
              "      <td>https://github.com/square/retrofit</td>\n",
              "    </tr>\n",
              "    <tr>\n",
              "      <th>14</th>\n",
              "      <td>skylot</td>\n",
              "      <td>jadx</td>\n",
              "      <td>https://github.com/skylot/jadx</td>\n",
              "    </tr>\n",
              "    <tr>\n",
              "      <th>15</th>\n",
              "      <td>dcloudio</td>\n",
              "      <td>uni-app</td>\n",
              "      <td>https://github.com/dcloudio/uni-app</td>\n",
              "    </tr>\n",
              "    <tr>\n",
              "      <th>16</th>\n",
              "      <td>fastlane</td>\n",
              "      <td>fastlane</td>\n",
              "      <td>https://github.com/fastlane/fastlane</td>\n",
              "    </tr>\n",
              "    <tr>\n",
              "      <th>17</th>\n",
              "      <td>termux</td>\n",
              "      <td>termux-app</td>\n",
              "      <td>https://github.com/termux/termux-app</td>\n",
              "    </tr>\n",
              "    <tr>\n",
              "      <th>18</th>\n",
              "      <td>2dust</td>\n",
              "      <td>v2rayNG</td>\n",
              "      <td>https://github.com/2dust/v2rayNG</td>\n",
              "    </tr>\n",
              "    <tr>\n",
              "      <th>19</th>\n",
              "      <td>PhilJay</td>\n",
              "      <td>MPAndroidChart</td>\n",
              "      <td>https://github.com/PhilJay/MPAndroidChart</td>\n",
              "    </tr>\n",
              "  </tbody>\n",
              "</table>\n",
              "</div>\n",
              "    <div class=\"colab-df-buttons\">\n",
              "\n",
              "  <div class=\"colab-df-container\">\n",
              "    <button class=\"colab-df-convert\" onclick=\"convertToInteractive('df-877417cb-e959-40b0-a175-0a2981f8a696')\"\n",
              "            title=\"Convert this dataframe to an interactive table.\"\n",
              "            style=\"display:none;\">\n",
              "\n",
              "  <svg xmlns=\"http://www.w3.org/2000/svg\" height=\"24px\" viewBox=\"0 -960 960 960\">\n",
              "    <path d=\"M120-120v-720h720v720H120Zm60-500h600v-160H180v160Zm220 220h160v-160H400v160Zm0 220h160v-160H400v160ZM180-400h160v-160H180v160Zm440 0h160v-160H620v160ZM180-180h160v-160H180v160Zm440 0h160v-160H620v160Z\"/>\n",
              "  </svg>\n",
              "    </button>\n",
              "\n",
              "  <style>\n",
              "    .colab-df-container {\n",
              "      display:flex;\n",
              "      gap: 12px;\n",
              "    }\n",
              "\n",
              "    .colab-df-convert {\n",
              "      background-color: #E8F0FE;\n",
              "      border: none;\n",
              "      border-radius: 50%;\n",
              "      cursor: pointer;\n",
              "      display: none;\n",
              "      fill: #1967D2;\n",
              "      height: 32px;\n",
              "      padding: 0 0 0 0;\n",
              "      width: 32px;\n",
              "    }\n",
              "\n",
              "    .colab-df-convert:hover {\n",
              "      background-color: #E2EBFA;\n",
              "      box-shadow: 0px 1px 2px rgba(60, 64, 67, 0.3), 0px 1px 3px 1px rgba(60, 64, 67, 0.15);\n",
              "      fill: #174EA6;\n",
              "    }\n",
              "\n",
              "    .colab-df-buttons div {\n",
              "      margin-bottom: 4px;\n",
              "    }\n",
              "\n",
              "    [theme=dark] .colab-df-convert {\n",
              "      background-color: #3B4455;\n",
              "      fill: #D2E3FC;\n",
              "    }\n",
              "\n",
              "    [theme=dark] .colab-df-convert:hover {\n",
              "      background-color: #434B5C;\n",
              "      box-shadow: 0px 1px 3px 1px rgba(0, 0, 0, 0.15);\n",
              "      filter: drop-shadow(0px 1px 2px rgba(0, 0, 0, 0.3));\n",
              "      fill: #FFFFFF;\n",
              "    }\n",
              "  </style>\n",
              "\n",
              "    <script>\n",
              "      const buttonEl =\n",
              "        document.querySelector('#df-877417cb-e959-40b0-a175-0a2981f8a696 button.colab-df-convert');\n",
              "      buttonEl.style.display =\n",
              "        google.colab.kernel.accessAllowed ? 'block' : 'none';\n",
              "\n",
              "      async function convertToInteractive(key) {\n",
              "        const element = document.querySelector('#df-877417cb-e959-40b0-a175-0a2981f8a696');\n",
              "        const dataTable =\n",
              "          await google.colab.kernel.invokeFunction('convertToInteractive',\n",
              "                                                    [key], {});\n",
              "        if (!dataTable) return;\n",
              "\n",
              "        const docLinkHtml = 'Like what you see? Visit the ' +\n",
              "          '<a target=\"_blank\" href=https://colab.research.google.com/notebooks/data_table.ipynb>data table notebook</a>'\n",
              "          + ' to learn more about interactive tables.';\n",
              "        element.innerHTML = '';\n",
              "        dataTable['output_type'] = 'display_data';\n",
              "        await google.colab.output.renderOutput(dataTable, element);\n",
              "        const docLink = document.createElement('div');\n",
              "        docLink.innerHTML = docLinkHtml;\n",
              "        element.appendChild(docLink);\n",
              "      }\n",
              "    </script>\n",
              "  </div>\n",
              "\n",
              "\n",
              "<div id=\"df-1fe45c64-ae2c-4504-85bd-f633c5d11afd\">\n",
              "  <button class=\"colab-df-quickchart\" onclick=\"quickchart('df-1fe45c64-ae2c-4504-85bd-f633c5d11afd')\"\n",
              "            title=\"Suggest charts\"\n",
              "            style=\"display:none;\">\n",
              "\n",
              "<svg xmlns=\"http://www.w3.org/2000/svg\" height=\"24px\"viewBox=\"0 0 24 24\"\n",
              "     width=\"24px\">\n",
              "    <g>\n",
              "        <path d=\"M19 3H5c-1.1 0-2 .9-2 2v14c0 1.1.9 2 2 2h14c1.1 0 2-.9 2-2V5c0-1.1-.9-2-2-2zM9 17H7v-7h2v7zm4 0h-2V7h2v10zm4 0h-2v-4h2v4z\"/>\n",
              "    </g>\n",
              "</svg>\n",
              "  </button>\n",
              "\n",
              "<style>\n",
              "  .colab-df-quickchart {\n",
              "      --bg-color: #E8F0FE;\n",
              "      --fill-color: #1967D2;\n",
              "      --hover-bg-color: #E2EBFA;\n",
              "      --hover-fill-color: #174EA6;\n",
              "      --disabled-fill-color: #AAA;\n",
              "      --disabled-bg-color: #DDD;\n",
              "  }\n",
              "\n",
              "  [theme=dark] .colab-df-quickchart {\n",
              "      --bg-color: #3B4455;\n",
              "      --fill-color: #D2E3FC;\n",
              "      --hover-bg-color: #434B5C;\n",
              "      --hover-fill-color: #FFFFFF;\n",
              "      --disabled-bg-color: #3B4455;\n",
              "      --disabled-fill-color: #666;\n",
              "  }\n",
              "\n",
              "  .colab-df-quickchart {\n",
              "    background-color: var(--bg-color);\n",
              "    border: none;\n",
              "    border-radius: 50%;\n",
              "    cursor: pointer;\n",
              "    display: none;\n",
              "    fill: var(--fill-color);\n",
              "    height: 32px;\n",
              "    padding: 0;\n",
              "    width: 32px;\n",
              "  }\n",
              "\n",
              "  .colab-df-quickchart:hover {\n",
              "    background-color: var(--hover-bg-color);\n",
              "    box-shadow: 0 1px 2px rgba(60, 64, 67, 0.3), 0 1px 3px 1px rgba(60, 64, 67, 0.15);\n",
              "    fill: var(--button-hover-fill-color);\n",
              "  }\n",
              "\n",
              "  .colab-df-quickchart-complete:disabled,\n",
              "  .colab-df-quickchart-complete:disabled:hover {\n",
              "    background-color: var(--disabled-bg-color);\n",
              "    fill: var(--disabled-fill-color);\n",
              "    box-shadow: none;\n",
              "  }\n",
              "\n",
              "  .colab-df-spinner {\n",
              "    border: 2px solid var(--fill-color);\n",
              "    border-color: transparent;\n",
              "    border-bottom-color: var(--fill-color);\n",
              "    animation:\n",
              "      spin 1s steps(1) infinite;\n",
              "  }\n",
              "\n",
              "  @keyframes spin {\n",
              "    0% {\n",
              "      border-color: transparent;\n",
              "      border-bottom-color: var(--fill-color);\n",
              "      border-left-color: var(--fill-color);\n",
              "    }\n",
              "    20% {\n",
              "      border-color: transparent;\n",
              "      border-left-color: var(--fill-color);\n",
              "      border-top-color: var(--fill-color);\n",
              "    }\n",
              "    30% {\n",
              "      border-color: transparent;\n",
              "      border-left-color: var(--fill-color);\n",
              "      border-top-color: var(--fill-color);\n",
              "      border-right-color: var(--fill-color);\n",
              "    }\n",
              "    40% {\n",
              "      border-color: transparent;\n",
              "      border-right-color: var(--fill-color);\n",
              "      border-top-color: var(--fill-color);\n",
              "    }\n",
              "    60% {\n",
              "      border-color: transparent;\n",
              "      border-right-color: var(--fill-color);\n",
              "    }\n",
              "    80% {\n",
              "      border-color: transparent;\n",
              "      border-right-color: var(--fill-color);\n",
              "      border-bottom-color: var(--fill-color);\n",
              "    }\n",
              "    90% {\n",
              "      border-color: transparent;\n",
              "      border-bottom-color: var(--fill-color);\n",
              "    }\n",
              "  }\n",
              "</style>\n",
              "\n",
              "  <script>\n",
              "    async function quickchart(key) {\n",
              "      const quickchartButtonEl =\n",
              "        document.querySelector('#' + key + ' button');\n",
              "      quickchartButtonEl.disabled = true;  // To prevent multiple clicks.\n",
              "      quickchartButtonEl.classList.add('colab-df-spinner');\n",
              "      try {\n",
              "        const charts = await google.colab.kernel.invokeFunction(\n",
              "            'suggestCharts', [key], {});\n",
              "      } catch (error) {\n",
              "        console.error('Error during call to suggestCharts:', error);\n",
              "      }\n",
              "      quickchartButtonEl.classList.remove('colab-df-spinner');\n",
              "      quickchartButtonEl.classList.add('colab-df-quickchart-complete');\n",
              "    }\n",
              "    (() => {\n",
              "      let quickchartButtonEl =\n",
              "        document.querySelector('#df-1fe45c64-ae2c-4504-85bd-f633c5d11afd button');\n",
              "      quickchartButtonEl.style.display =\n",
              "        google.colab.kernel.accessAllowed ? 'block' : 'none';\n",
              "    })();\n",
              "  </script>\n",
              "</div>\n",
              "\n",
              "    </div>\n",
              "  </div>\n"
            ],
            "application/vnd.google.colaboratory.intrinsic+json": {
              "type": "dataframe",
              "summary": "{\n  \"name\": \"get_repositories(get_topic_page(topic_urls[4]))\",\n  \"rows\": 20,\n  \"fields\": [\n    {\n      \"column\": \"repo_name\",\n      \"properties\": {\n        \"dtype\": \"string\",\n        \"num_unique_values\": 19,\n        \"samples\": [\n          \"flutter\",\n          \"Solido\",\n          \"square\"\n        ],\n        \"semantic_type\": \"\",\n        \"description\": \"\"\n      }\n    },\n    {\n      \"column\": \"repo_title\",\n      \"properties\": {\n        \"dtype\": \"string\",\n        \"num_unique_values\": 20,\n        \"samples\": [\n          \"flutter\",\n          \"termux-app\",\n          \"uni-app\"\n        ],\n        \"semantic_type\": \"\",\n        \"description\": \"\"\n      }\n    },\n    {\n      \"column\": \"repo_url\",\n      \"properties\": {\n        \"dtype\": \"string\",\n        \"num_unique_values\": 20,\n        \"samples\": [\n          \"https://github.com/flutter/flutter\",\n          \"https://github.com/termux/termux-app\",\n          \"https://github.com/dcloudio/uni-app\"\n        ],\n        \"semantic_type\": \"\",\n        \"description\": \"\"\n      }\n    }\n  ]\n}"
            }
          },
          "metadata": {},
          "execution_count": 154
        }
      ]
    },
    {
      "cell_type": "markdown",
      "source": [
        "#WRITE A SINGLE FN TO:\n",
        "\n",
        "-- GET THE TOPICS FROM THE TOPIC PAGE\n",
        "-- GET THE LIST OF TOPICS REPOS FROM INDIVIDUAL TOPIC\n",
        "-- CREATE CSV OF EACH TOPIC OF TOP REPOS"
      ],
      "metadata": {
        "id": "J6s6mRPWZU6X"
      }
    },
    {
      "cell_type": "code",
      "source": [
        "import requests\n",
        "from bs4 import BeautifulSoup\n",
        "import pandas as pd\n",
        "\n",
        "base_url = \"https://github.com\"  # Define base_url globally\n",
        "\n",
        "def get_topic_page(topic_url):\n",
        "    response = requests.get(topic_url)\n",
        "    if response.status_code != 200:\n",
        "        raise Exception(f\"Failed to load page {topic_url}\")\n",
        "\n",
        "    topic_doc = BeautifulSoup(response.text, \"html.parser\")\n",
        "\n",
        "    # Fetch topic names and descriptions\n",
        "    topic_tag_name = topic_doc.find_all(\"p\", {\"class\": \"f3 lh-condensed mb-0 mt-1 Link--primary\"})\n",
        "    topic_name = [i.text.strip() for i in topic_tag_name]\n",
        "\n",
        "    topic_tag_desc = topic_doc.find_all(\"p\", {\"class\": \"f5 color-fg-muted mb-0 mt-1\"})\n",
        "    topic_decs = [i.text.strip() for i in topic_tag_desc]\n",
        "\n",
        "    # Fetch topic URLs\n",
        "    topic_tag_url = topic_doc.find_all(\"a\", {\"class\": \"no-underline flex-1 d-flex flex-column\"})\n",
        "    topic_urls = [base_url + i[\"href\"] for i in topic_tag_url]\n",
        "\n",
        "    topic_dict = {\"title\": topic_name, \"description\": topic_decs, \"url\": topic_urls}\n",
        "    topic_df = pd.DataFrame(topic_dict)\n",
        "\n",
        "    # Save the topic DataFrame to CSV\n",
        "    topic_df.to_csv(\"github_topics.csv\", index=False)\n",
        "\n",
        "    return topic_df\n",
        "\n",
        "\n",
        "def get_repositories(topic_url):\n",
        "    response = requests.get(topic_url)\n",
        "    if response.status_code != 200:\n",
        "        raise Exception(f\"Failed to load page {topic_url}\")\n",
        "\n",
        "    topic_doc = BeautifulSoup(response.text, \"html.parser\")\n",
        "\n",
        "    # Fetch repository tags\n",
        "    repo_tag_name = topic_doc.find_all(\"h3\", {\"class\": \"f3 color-fg-muted text-normal lh-condensed\"})\n",
        "\n",
        "    def get_repo_info(repo_tag):\n",
        "        a_tags = repo_tag.find_all(\"a\")\n",
        "        repo_name = a_tags[0].text.strip()\n",
        "        repo_title = a_tags[1].text.strip()\n",
        "        repo_url = base_url + a_tags[1][\"href\"]\n",
        "\n",
        "\n",
        "        star_tag = repo_tag.find_next(\"a\", {\"class\": \"Link--primary\"})\n",
        "        stars = star_tag.text.strip() if star_tag else \"0\"\n",
        "\n",
        "        if \"k\" in stars:\n",
        "            star_rating = stars.replace(\"k\", \"\")\n",
        "            star_rating = int(float(star_rating)) * 1000\n",
        "        else:\n",
        "            star_rating = int(stars)\n",
        "\n",
        "        return repo_name, repo_title, repo_url, star_rating\n",
        "\n",
        "    repos_dict = {\n",
        "        \"repo_name\": [],\n",
        "        \"repo_title\": [],\n",
        "        \"repo_url\": [],\n",
        "        \"repo_star_rating\": []\n",
        "    }\n",
        "\n",
        "    for repo_tag in repo_tag_name:\n",
        "        repo_info = get_repo_info(repo_tag)\n",
        "        repos_dict[\"repo_name\"].append(repo_info[0])\n",
        "        repos_dict[\"repo_title\"].append(repo_info[1])\n",
        "        repos_dict[\"repo_url\"].append(repo_info[2])\n",
        "        repos_dict[\"repo_star_rating\"].append(repo_info[3])\n",
        "\n",
        "    repos_df = pd.DataFrame(repos_dict)\n",
        "    return repos_df\n",
        "\n",
        "\n",
        "def main():\n",
        "\n",
        "    topic_page_df = get_topic_page(\"https://github.com/topics\")\n",
        "\n",
        "    # For each topic URL, fetch repositories and save as CSV\n",
        "    for index, row in topic_page_df.iterrows():\n",
        "        topic_url = row[\"url\"]\n",
        "        topic_name = row[\"title\"]\n",
        "\n",
        "        # Fetch repositories for this topic\n",
        "        repo_df = get_repositories(topic_url)\n",
        "\n",
        "        # Save the repository data for this topic to a CSV file\n",
        "        repo_df.to_csv(f\"{topic_name}_repositories.csv\", index=False)\n",
        "        print(f\"Saved repositories for topic: {topic_name}\")\n",
        "\n",
        "\n",
        "if __name__ == \"__main__\":\n",
        "    main()\n"
      ],
      "metadata": {
        "colab": {
          "base_uri": "https://localhost:8080/"
        },
        "id": "ipC33AtpZ7G1",
        "outputId": "5224e581-6f94-4724-ea8b-8b344596ddcf"
      },
      "execution_count": 155,
      "outputs": [
        {
          "output_type": "stream",
          "name": "stdout",
          "text": [
            "Saved repositories for topic: 3D\n",
            "Saved repositories for topic: Ajax\n",
            "Saved repositories for topic: Algorithm\n",
            "Saved repositories for topic: Amp\n",
            "Saved repositories for topic: Android\n",
            "Saved repositories for topic: Angular\n",
            "Saved repositories for topic: Ansible\n",
            "Saved repositories for topic: API\n",
            "Saved repositories for topic: Arduino\n",
            "Saved repositories for topic: ASP.NET\n",
            "Saved repositories for topic: Awesome Lists\n",
            "Saved repositories for topic: Amazon Web Services\n",
            "Saved repositories for topic: Azure\n",
            "Saved repositories for topic: Babel\n",
            "Saved repositories for topic: Bash\n",
            "Saved repositories for topic: Bitcoin\n",
            "Saved repositories for topic: Bootstrap\n",
            "Saved repositories for topic: Bot\n",
            "Saved repositories for topic: C\n",
            "Saved repositories for topic: Chrome\n",
            "Saved repositories for topic: Chrome extension\n",
            "Saved repositories for topic: Command-line interface\n",
            "Saved repositories for topic: Clojure\n",
            "Saved repositories for topic: Code quality\n",
            "Saved repositories for topic: Code review\n",
            "Saved repositories for topic: Compiler\n",
            "Saved repositories for topic: Continuous integration\n",
            "Saved repositories for topic: C++\n",
            "Saved repositories for topic: Cryptocurrency\n",
            "Saved repositories for topic: Crystal\n"
          ]
        }
      ]
    },
    {
      "cell_type": "markdown",
      "source": [],
      "metadata": {
        "id": "AaaEydbcZU5F"
      }
    },
    {
      "cell_type": "markdown",
      "source": [
        "First, gather a list of topics from GitHub.\n",
        "Then, for each topic, gather the repositories (projects) related to that topic.\n",
        "Finally, save the repository information for each topic into a separate file."
      ],
      "metadata": {
        "id": "0IlJU-JjtDU6"
      }
    },
    {
      "cell_type": "markdown",
      "source": [],
      "metadata": {
        "id": "gr9zBk4wtC83"
      }
    }
  ],
  "metadata": {
    "colab": {
      "provenance": []
    },
    "kernelspec": {
      "display_name": "Python 3",
      "name": "python3"
    }
  },
  "nbformat": 4,
  "nbformat_minor": 0
}